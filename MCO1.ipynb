{
 "cells": [
  {
   "cell_type": "markdown",
   "metadata": {},
   "source": [
    "### Setting Up the Data Warehouse"
   ]
  },
  {
   "cell_type": "markdown",
   "metadata": {},
   "source": [
    "Installations required:\n",
    "- [MySQL](https://dev.mysql.com/downloads/installer/)\n",
    "- pandas, sqlalchemy, mysql-connector-python (pip)"
   ]
  },
  {
   "cell_type": "code",
   "execution_count": 1,
   "metadata": {},
   "outputs": [],
   "source": [
    "# Database configuration\n",
    "db_config = {\n",
    "    'host': 'localhost',\n",
    "    'user': 'root',\n",
    "    'password': '1234567',\n",
    "    'port': '3306',  # Default MySQL port\n",
    "    'database': 'Group4MCO1'  # Replace with your database name\n",
    "}"
   ]
  },
  {
   "cell_type": "code",
   "execution_count": 2,
   "metadata": {},
   "outputs": [
    {
     "name": "stdout",
     "output_type": "stream",
     "text": [
      "CSV loaded into DataFrame.\n",
      "Connected to MySQL server.\n",
      "Connected to database 'Group4MCO1'.\n",
      "SteamDB builder executed successfully!\n",
      "Binary encodings added to table 'dim_os'\n"
     ]
    }
   ],
   "source": [
    "from SteamDB import SteamDB\n",
    "\n",
    "db = SteamDB(db_config=db_config)\n",
    "db.create_steam_db()"
   ]
  },
  {
   "cell_type": "code",
   "execution_count": 3,
   "metadata": {},
   "outputs": [
    {
     "name": "stdout",
     "output_type": "stream",
     "text": [
      "Data written to dim_game successfully and transaction committed.\n",
      "Data written to dim_company successfully and transaction committed.\n",
      "Data written to fact_gamemetrics successfully and transaction committed.\n",
      "    gameID  companyID osID  price  peakCCU  achievementCount  \\\n",
      "0    20200          1  100  19.99        0                30   \n",
      "1   655370          2  110   0.99        0                12   \n",
      "2  1732930          2  100   4.99        0                 0   \n",
      "3  1355720          2  111   5.99        0                 0   \n",
      "4  1139950          2  110   0.00        0                17   \n",
      "\n",
      "   averagePlaytimeForever  medianPlaytimeForever estimatedOwners  dlcCount  \\\n",
      "0                     0.0                    0.0       0 - 20000         0   \n",
      "1                     0.0                    0.0       0 - 20000         0   \n",
      "2                     0.0                    0.0       0 - 20000         0   \n",
      "3                     0.0                    0.0       0 - 20000         0   \n",
      "4                     0.0                    0.0       0 - 20000         0   \n",
      "\n",
      "   metacriticScore  userScore  positive  negative scoreRank  recommendations  \n",
      "0                0        0.0         6        11      None                0  \n",
      "1                0        0.0        53         5      None                0  \n",
      "2                0        0.0         0         0      None                0  \n",
      "3                0        0.0         3         0      None                0  \n",
      "4                0        0.0        50         8      None                0  \n"
     ]
    }
   ],
   "source": [
    "db.populate_steam_db()\n",
    "db.execute_sql(\"SELECT * FROM fact_GameMetrics LIMIT 5\")"
   ]
  },
  {
   "cell_type": "code",
   "execution_count": 24,
   "metadata": {},
   "outputs": [
    {
     "name": "stdout",
     "output_type": "stream",
     "text": [
      "  osID\n",
      "0  001\n",
      "1  010\n",
      "2  011\n",
      "3  100\n",
      "4  101\n",
      "5  110\n",
      "6  111\n"
     ]
    }
   ],
   "source": [
    "db.execute_sql(\"SELECT DISTINCT osID from fact_gamemetrics\")"
   ]
  }
 ],
 "metadata": {
  "kernelspec": {
   "display_name": "Python 3",
   "language": "python",
   "name": "python3"
  },
  "language_info": {
   "codemirror_mode": {
    "name": "ipython",
    "version": 3
   },
   "file_extension": ".py",
   "mimetype": "text/x-python",
   "name": "python",
   "nbconvert_exporter": "python",
   "pygments_lexer": "ipython3",
   "version": "3.10.0"
  }
 },
 "nbformat": 4,
 "nbformat_minor": 2
}
