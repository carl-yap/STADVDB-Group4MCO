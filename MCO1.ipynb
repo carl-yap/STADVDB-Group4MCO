{
 "cells": [
  {
   "cell_type": "markdown",
   "metadata": {},
   "source": [
    "### Setting Up the Data Warehouse"
   ]
  },
  {
   "cell_type": "markdown",
   "metadata": {},
   "source": [
    "Installations required:\n",
    "- [MySQL](https://dev.mysql.com/downloads/installer/)\n",
    "- mysql-connector-python (pip)"
   ]
  },
  {
   "cell_type": "code",
   "execution_count": 1,
   "metadata": {},
   "outputs": [],
   "source": [
    "# Database configuration\n",
    "db_config = {\n",
    "    'host': 'localhost',\n",
    "    'user': 'root',\n",
    "    'password': '1234567',\n",
    "    'port': '3306',  # Default MySQL port\n",
    "    'database': 'Group4MCO1'  # Replace with your database name\n",
    "}"
   ]
  },
  {
   "cell_type": "code",
   "execution_count": 2,
   "metadata": {},
   "outputs": [
    {
     "name": "stdout",
     "output_type": "stream",
     "text": [
      "CSV loaded into DataFrame.\n",
      "Connected to MySQL server.\n",
      "Connected to database 'Group4MCO1'.\n",
      "SQL query executed successfully!\n"
     ]
    }
   ],
   "source": [
    "from SteamDB import SteamDB\n",
    "\n",
    "db = SteamDB(db_config=db_config)\n",
    "db.create_steam_db()"
   ]
  },
  {
   "cell_type": "code",
   "execution_count": 3,
   "metadata": {},
   "outputs": [
    {
     "name": "stdout",
     "output_type": "stream",
     "text": [
      "An error occurred: (mysql.connector.errors.OperationalError) 2013 (HY000): Lost connection to MySQL server during query\n",
      "[SQL: INSERT INTO dim_game (`gameID`, name, `releaseDate`, `requiredAge`, `aboutTheGame`, `websiteURL`, `supportURL`, `supportEmail`, `supportedLanguages`, `fullAudioLanguages`, `headerImageHREF`, categories, tags, genres) VALUES (%(gameID)s, %(name)s, %(releaseDate)s, %(requiredAge)s, %(aboutTheGame)s, %(websiteURL)s, %(supportURL)s, %(supportEmail)s, %(supportedLanguages)s, %(fullAudioLanguages)s, %(headerImageHREF)s, %(categories)s, %(tags)s, %(genres)s)]\n",
      "[parameters: [{'gameID': 20200, 'name': 'Galactic Bowling', 'releaseDate': '10-21-2008', 'requiredAge': 0, 'aboutTheGame': 'Galactic Bowling is an exaggerated and stylized bowling game with an intergalactic twist. Players will engage in fast-paced single and multi-player c ... (745 characters truncated) ... tiplayer play Modes. Super Powers, Special Balls, and Whammies. Unlockable Characters, Environments, and Minigames. Unlock all 30 Steam Achievements!', 'websiteURL': 'http://www.galacticbowling.net', 'supportURL': None, 'supportEmail': None, 'supportedLanguages': \"['English']\", 'fullAudioLanguages': '[]', 'headerImageHREF': 'https://cdn.akamai.steamstatic.com/steam/apps/20200/header.jpg?t=1640121033', 'categories': 'Single-player,Multi-player,Steam Achievements,Partial Controller Support', 'tags': 'Indie,Casual,Sports,Bowling', 'genres': 'Casual,Indie,Sports'}, {'gameID': 655370, 'name': 'Train Bandit', 'releaseDate': '10-12-2017', 'requiredAge': 0, 'aboutTheGame': \"THE LAW!! Looks to be a showdown atop a train. This will be your last fight. Good luck, Train Bandit. WHAT IS THIS GAME? Train Bandit is a simple sco ... (193 characters truncated) ... tion. React...or you're dead. THE FEATURES Unlock new bandits Earn Achievements Become Steam's Most Wanted ? Battle elite officers Kick the law's ass\", 'websiteURL': 'http://trainbandit.com', 'supportURL': None, 'supportEmail': 'support@rustymoyher.com', 'supportedLanguages': \"['English', 'French', 'Italian', 'German', 'Spanish - Spain', 'Japanese', 'Portuguese - Brazil', 'Russian', 'Simplified Chinese', 'Traditional Chinese']\", 'fullAudioLanguages': '[]', 'headerImageHREF': 'https://cdn.akamai.steamstatic.com/steam/apps/655370/header.jpg?t=1617500526', 'categories': 'Single-player,Steam Achievements,Full controller support,Steam Leaderboards,Remote Play on Phone,Remote Play on Tablet,Remote Play on TV', 'tags': 'Indie,Action,Pixel Graphics,2D,Retro,Arcade,Score Attack,Minimalist,Comedy,Singleplayer,Fast-Paced,Casual,Funny,Parody,Difficult,Gore,Violent,Western,Controller,Blood', 'genres': 'Action,Indie'}, {'gameID': 1732930, 'name': 'Jolt Project', 'releaseDate': '11-17-2021', 'requiredAge': 0, 'aboutTheGame': \"Jolt Project: The army now has a new robotics project, jolt. It's up to you to control it and ensure the success of the missions! There are 9 stages  ... (330 characters truncated) ... troy your charges and prevent the success of your mission! Cartoon-style graphics are optimized and fun and generate an excellent gaming environment!\", 'websiteURL': None, 'supportURL': None, 'supportEmail': 'ramoncampiaof31@gmail.com', 'supportedLanguages': \"['English', 'Portuguese - Brazil']\", 'fullAudioLanguages': '[]', 'headerImageHREF': 'https://cdn.akamai.steamstatic.com/steam/apps/1732930/header.jpg?t=1637149386', 'categories': 'Single-player', 'tags': None, 'genres': 'Action,Adventure,Indie,Strategy'}, {'gameID': 1355720, 'name': 'Henosis™', 'releaseDate': '07-23-2020', 'requiredAge': 0, 'aboutTheGame': 'HENOSIS™ is a mysterious 2D Platform Puzzler where players are propelled into weird and visceral worlds as they take control of a small, droplet of w ... (317 characters truncated) ... ttle menacing bosses across 3 distinct worlds* Original artwork &amp; animation Full controller support Localization support * Hidden world included!', 'websiteURL': 'https://henosisgame.com/', 'supportURL': 'https://henosisgame.com/', 'supportEmail': 'info@henosisgame.com', 'supportedLanguages': \"['English', 'French', 'Italian', 'German', 'Spanish - Spain', 'Japanese', 'Korean', 'Portuguese', 'Russian', 'Simplified Chinese', 'Traditional Chinese']\", 'fullAudioLanguages': '[]', 'headerImageHREF': 'https://cdn.akamai.steamstatic.com/steam/apps/1355720/header.jpg?t=1639875115', 'categories': 'Single-player,Full controller support', 'tags': '2D Platformer,Atmospheric,Surreal,Mystery,Puzzle,Survival,Adventure,Linear,Singleplayer,Experimental,Platformer,Precision Platformer,Puzzle-Platformer,2D,Stylized,Physics,Time Manipulation,Casual,Indie', 'genres': 'Adventure,Casual,Indie'}, {'gameID': 1139950, 'name': 'Two Weeks in Painland', 'releaseDate': '02-03-2020', 'requiredAge': 0, 'aboutTheGame': 'ABOUT THE GAME Play as a hacker who has arranged a deal with a gangster. That’s how the protagonist, Jack, is assigned a mission that should be accom ... (374 characters truncated) ... ealth impacted negatively in the process. All of this while you enjoy an interesting story full of humor and action that evolves along with the game.', 'websiteURL': 'https://www.unusual-games.com/home/', 'supportURL': 'https://www.unusual-games.com/contact/', 'supportEmail': 'welistentoyou@unusual-games.com', 'supportedLanguages': \"['English', 'Spanish - Spain']\", 'fullAudioLanguages': '[]', 'headerImageHREF': 'https://cdn.akamai.steamstatic.com/steam/apps/1139950/header.jpg?t=1595003825', 'categories': 'Single-player,Steam Achievements', 'tags': 'Indie,Adventure,Nudity,Violent,Sexual Content,Story Rich', 'genres': 'Adventure,Indie'}, {'gameID': 1469160, 'name': 'Wartune Reborn', 'releaseDate': '02-26-2021', 'requiredAge': 0, 'aboutTheGame': \"Feel tired of auto-fight? Feel tired of boring numerical combinations? Let us try this amazing and exciting game! Right! Wartune Reborn is the super  ... (1537 characters truncated) ... , mounts, weapon appearance with arbitrary combination. Wartune Reborn, Magical epic, Expect Heroes! Classical playing brings you amazing experience!\", 'websiteURL': None, 'supportURL': 'https://7.wan.com', 'supportEmail': 'https://wartune@7road.com', 'supportedLanguages': \"['English']\", 'fullAudioLanguages': '[]', 'headerImageHREF': 'https://cdn.akamai.steamstatic.com/steam/apps/1469160/header.jpg?t=1617078164', 'categories': 'Single-player,Multi-player,MMO,PvP,Online PvP,Co-op,Online Co-op,In-App Purchases', 'tags': 'Turn-Based Combat,Massively Multiplayer,Multiplayer,RPG,Tactical RPG,Exploration,PvP,MMORPG,Turn-Based Strategy,God Game,Strategy,2.5D,Magic,Medieval,Mythology,Class-Based,Turn-Based Tactics,Singleplayer,Online Co-Op,Co-op', 'genres': 'Adventure,Casual,Free to Play,Massively Multiplayer,RPG,Strategy'}, {'gameID': 1659180, 'name': 'TD Worlds', 'releaseDate': '01-09-2022', 'requiredAge': 0, 'aboutTheGame': 'TD Worlds is a dynamic, highly strategical game that challenges your skill. Build an impenetrable defense and get ready to plunge into a new, unknown ... (488 characters truncated) ... l free to leave the game, next time you will continue where you left; experiment with different tactics; Twitch integration - play with your viewers.', 'websiteURL': None, 'supportURL': None, 'supportEmail': 'td.worlds.official@gmail.com', 'supportedLanguages': \"['English', 'Russian', 'Danish']\", 'fullAudioLanguages': '[]', 'headerImageHREF': 'https://cdn.akamai.steamstatic.com/steam/apps/1659180/header.jpg?t=1654195425', 'categories': 'Single-player,Steam Achievements,Steam Cloud', 'tags': 'Tower Defense,Rogue-lite,RTS,Replay Value,Perma Death,2D,Isometric,Difficult,Rogue-like,Dynamic Narration,Stylized,Real Time Tactics,Strategy,Minimalist,Abstract,Tactical,Atmospheric,Singleplayer,Sci-fi,Mystery', 'genres': 'Indie,Strategy'}, {'gameID': 1968760, 'name': 'Legend of Rome - The Wrath of Mars', 'releaseDate': '05-05-2022', 'requiredAge': 0, 'aboutTheGame': 'When the Roman people honored a simple warrior for the victories in battle they angered the god of war. Mars, infuriated, sends his army and brings g ... (393 characters truncated) ... gh a challenging story. - Build and restore the city. - Earn different bonuses, upgrades and extras. - Solve challenging mini-games and bonus levels.', 'websiteURL': 'http://magnussoft.biz/', 'supportURL': 'http://magnussoft.biz/', 'supportEmail': 'support@magnussoft.de', 'supportedLanguages': \"['English', 'German']\", 'fullAudioLanguages': \"['English', 'German']\", 'headerImageHREF': 'https://cdn.akamai.steamstatic.com/steam/apps/1968760/header.jpg?t=1651734619', 'categories': 'Single-player,Steam Cloud', 'tags': None, 'genres': 'Casual'}  ... displaying 10 of 97404 total bound parameter sets ...  {'gameID': 3124670, 'name': 'Escape The Garage', 'releaseDate': '08-29-2024', 'requiredAge': 0, 'aboutTheGame': 'Welcome to Escape The Garage, the thrilling escape game that will send chills down your spine. Immerse yourself in a slightly rough and creepy atmosp ... (1030 characters truncated) ... me anew even after completing it with the exciting New Game Plus mode Take on the challenge and find a way out in Escape The Garage. Will you escape?', 'websiteURL': None, 'supportURL': None, 'supportEmail': 'CryTechGames@web.de', 'supportedLanguages': \"['English']\", 'fullAudioLanguages': \"['English']\", 'headerImageHREF': 'https://shared.akamai.steamstatic.com/store_item_assets/steam/apps/3124670/header.jpg?t=1724975362', 'categories': 'Single-player,Steam Achievements,Family Sharing', 'tags': None, 'genres': 'Adventure,Casual,Indie'}, {'gameID': 3054200, 'name': 'Lober Lobe', 'releaseDate': '08-30-2024', 'requiredAge': 0, 'aboutTheGame': \"Scan Brain Lobes Organize &amp; clear dangerous neuronal protein buildup Suppress intrusive thoughts Unlock all 12 unique playable brains Shoot psych ... (968 characters truncated) ... chool inspired sound design. Plus a Bonus RETRO Graphic Style Mode that changes the look of the in-game stages and various sprites within the stages.\", 'websiteURL': 'https://www.trashvomitstudios.com/', 'supportURL': 'https://www.trashvomitstudios.com/', 'supportEmail': None, 'supportedLanguages': \"['English']\", 'fullAudioLanguages': '[]', 'headerImageHREF': 'https://shared.akamai.steamstatic.com/store_item_assets/steam/apps/3054200/header.jpg?t=1725032216', 'categories': 'Single-player,Steam Achievements,Full controller support,Steam Cloud,Family Sharing', 'tags': None, 'genres': 'Action,Casual,Indie'}]]\n",
      "(Background on this error at: https://sqlalche.me/e/20/e3q8)\n",
      "Transaction rolled back.\n"
     ]
    }
   ],
   "source": [
    "db.populate_steam_db()\n",
    "db.execute_sql(\"SELECT * FROM dim_game LIMIT 5\")"
   ]
  }
 ],
 "metadata": {
  "kernelspec": {
   "display_name": "Python 3",
   "language": "python",
   "name": "python3"
  },
  "language_info": {
   "codemirror_mode": {
    "name": "ipython",
    "version": 3
   },
   "file_extension": ".py",
   "mimetype": "text/x-python",
   "name": "python",
   "nbconvert_exporter": "python",
   "pygments_lexer": "ipython3",
   "version": "3.10.0"
  }
 },
 "nbformat": 4,
 "nbformat_minor": 2
}
